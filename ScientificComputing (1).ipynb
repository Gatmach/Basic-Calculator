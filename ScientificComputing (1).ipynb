{
  "nbformat": 4,
  "nbformat_minor": 0,
  "metadata": {
    "colab": {
      "provenance": []
    },
    "kernelspec": {
      "name": "python3",
      "display_name": "Python 3"
    },
    "language_info": {
      "name": "python"
    }
  },
  "cells": [
    {
      "cell_type": "markdown",
      "source": [
        "\n",
        "\n",
        "```\n",
        "# This is formatted as code\n",
        "$ 4 /3 * 5 ^ 3 x PI $\n",
        "```\n",
        "\n"
      ],
      "metadata": {
        "id": "4-xExSkkih9r"
      }
    },
    {
      "cell_type": "code",
      "source": [
        "PI = 3.14159"
      ],
      "metadata": {
        "id": "ttL5IKFdjymF"
      },
      "execution_count": null,
      "outputs": []
    },
    {
      "cell_type": "code",
      "source": [
        "radius_of_sphere = float(input(\"Enter the radius:\"))"
      ],
      "metadata": {
        "colab": {
          "base_uri": "https://localhost:8080/"
        },
        "id": "T0nr7UHRjdDK",
        "outputId": "54daf774-cf05-4c6c-c5f6-6656742bc37c"
      },
      "execution_count": null,
      "outputs": [
        {
          "name": "stdout",
          "output_type": "stream",
          "text": [
            "Enter the radius:5.6\n"
          ]
        }
      ]
    },
    {
      "cell_type": "code",
      "source": [
        "volume = 4 / 3 * PI * (radius_of_sphere **3)"
      ],
      "metadata": {
        "id": "M6ScwdVmje-D"
      },
      "execution_count": null,
      "outputs": []
    },
    {
      "cell_type": "code",
      "source": [
        "print(f'volume of sphere {volume:.2f}')"
      ],
      "metadata": {
        "colab": {
          "base_uri": "https://localhost:8080/"
        },
        "id": "poZWi2USjYAM",
        "outputId": "fae557d2-cc6a-4803-b880-e8efb2d87e61"
      },
      "execution_count": null,
      "outputs": [
        {
          "output_type": "stream",
          "name": "stdout",
          "text": [
            "volume of sphere 735.62\n"
          ]
        }
      ]
    },
    {
      "cell_type": "markdown",
      "source": [
        "$ 4/3\\ x \\  5.6 ^ 3\\ x \\ 3.14159 = 735.62 $\n",
        "\n",
        "```\n",
        "# This is formatted as code\n",
        "```\n",
        "\n"
      ],
      "metadata": {
        "id": "TFKNu8iPe5Wg"
      }
    },
    {
      "cell_type": "code",
      "source": [],
      "metadata": {
        "id": "SWR9PNTzpZzC"
      },
      "execution_count": null,
      "outputs": []
    },
    {
      "cell_type": "code",
      "source": [],
      "metadata": {
        "id": "bGlCbgnLpRNm"
      },
      "execution_count": null,
      "outputs": []
    },
    {
      "cell_type": "code",
      "source": [],
      "metadata": {
        "id": "QD-3fqa2p5F3"
      },
      "execution_count": null,
      "outputs": []
    },
    {
      "cell_type": "markdown",
      "source": [
        "$x_{1}$ + $2x_{2}$ - $x_{3}$ = -2\n",
        "\n",
        "$2x_{1}$ + $ 7x_{2} $ - $ 8x_{3} $ = -16\n",
        "\n",
        "$-2x_{2}$ + $2x_{3}$ = 2\n",
        "\n",
        "Solutions\n",
        "\n",
        "$x_{1}$ = -3\n",
        "\n",
        "$x_{2}$ = 2\n",
        "\n",
        "$x_{3}$ = 3"
      ],
      "metadata": {
        "id": "bvDnOfLUrZzh"
      }
    },
    {
      "cell_type": "code",
      "source": [],
      "metadata": {
        "id": "34ui6y-8pUSA"
      },
      "execution_count": null,
      "outputs": []
    },
    {
      "cell_type": "code",
      "source": [
        "# Calculating Compound interest\n",
        "deposit = 100000;"
      ],
      "metadata": {
        "id": "ntlqryIwwxdc"
      },
      "execution_count": null,
      "outputs": []
    },
    {
      "cell_type": "code",
      "source": [
        "interest_rate = 12"
      ],
      "metadata": {
        "id": "4xbYJ9ugyoW0"
      },
      "execution_count": null,
      "outputs": []
    },
    {
      "cell_type": "code",
      "source": [
        "number_of_years = 5"
      ],
      "metadata": {
        "id": "LH0AWuZcyrKh"
      },
      "execution_count": null,
      "outputs": []
    },
    {
      "cell_type": "code",
      "source": [
        "amount = deposit* (1 + interest_rate / 100)**number_of_years"
      ],
      "metadata": {
        "id": "DDQvVAb0y7qu"
      },
      "execution_count": null,
      "outputs": []
    },
    {
      "cell_type": "code",
      "source": [
        "print(f'Amount:{amount:.2f}')"
      ],
      "metadata": {
        "colab": {
          "base_uri": "https://localhost:8080/"
        },
        "id": "6W9eNmBUy9f9",
        "outputId": "632c4946-a046-425a-a066-2af9486d9bf9"
      },
      "execution_count": null,
      "outputs": [
        {
          "output_type": "stream",
          "name": "stdout",
          "text": [
            "Amount:176234.17\n"
          ]
        }
      ]
    },
    {
      "cell_type": "markdown",
      "source": [
        "# Calculating compound Interest\n",
        "\n",
        "\n",
        "\n",
        "p = 100000\n",
        "\n",
        "r = 12\n",
        "\n",
        "t = 5\n",
        "\n",
        "n = 1\n",
        "amount = $ p (1 + \\frac{r}{n} )^{nt} $\n",
        "\n",
        "total amount = 176234.17"
      ],
      "metadata": {
        "id": "Xfq_70Rv0ffy"
      }
    },
    {
      "cell_type": "markdown",
      "source": [],
      "metadata": {
        "id": "hlCPP5JN5SiD"
      }
    },
    {
      "cell_type": "code",
      "source": [],
      "metadata": {
        "id": "1iU05Ixh5Owa"
      },
      "execution_count": null,
      "outputs": []
    },
    {
      "cell_type": "code",
      "source": [],
      "metadata": {
        "id": "kGOqW3bh4nrR"
      },
      "execution_count": null,
      "outputs": []
    },
    {
      "cell_type": "markdown",
      "source": [],
      "metadata": {
        "id": "ffn2ANOC4oGe"
      }
    }
  ]
}